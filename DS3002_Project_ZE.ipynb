{
 "cells": [
  {
   "cell_type": "code",
   "execution_count": null,
   "id": "eab7f1f3-7011-489a-819b-e6a3ad197448",
   "metadata": {},
   "outputs": [],
   "source": [
    "import numpy as np\n",
    "import pandas as pd\n",
    "import csv \n",
    "import json"
   ]
  },
  {
   "cell_type": "code",
   "execution_count": null,
   "id": "3c142f74-de53-41dc-91c0-3e8f28ecce57",
   "metadata": {},
   "outputs": [],
   "source": [
    "data = pd.read_csv('Real_Estate_(Base_Data).csv')"
   ]
  },
  {
   "cell_type": "code",
   "execution_count": null,
   "id": "4a7ad9ed-1f3f-4dd2-9425-884a0e60a067",
   "metadata": {},
   "outputs": [],
   "source": [
    "print(data)"
   ]
  },
  {
   "cell_type": "code",
   "execution_count": null,
   "id": "c27caf14-6328-41b1-b9c3-2826149e5f5f",
   "metadata": {},
   "outputs": [],
   "source": [
    "df = pd.DataFrame(data)\n",
    "print(df)"
   ]
  },
  {
   "cell_type": "code",
   "execution_count": null,
   "id": "926fb1d2-2526-47da-b30b-f14451823925",
   "metadata": {},
   "outputs": [],
   "source": [
    "total_rows=len(df.axes[0]) \n",
    "total_cols=len(df.axes[1]) \n",
    "print(\"Number of Rows: \"+str(total_rows))\n",
    "print(\"Number of Columns: \"+str(total_cols))"
   ]
  },
  {
   "cell_type": "code",
   "execution_count": null,
   "id": "69a202e6-0f59-4fc4-bdb6-916ff2481288",
   "metadata": {},
   "outputs": [],
   "source": [
    "data.to_json('Real_Estate_(Base_Data).json')"
   ]
  },
  {
   "cell_type": "code",
   "execution_count": null,
   "id": "5ec1ac34-c268-4673-8071-e55bd2384696",
   "metadata": {},
   "outputs": [],
   "source": [
    "pip install pandas sqlalchemy"
   ]
  },
  {
   "cell_type": "code",
   "execution_count": null,
   "id": "0e7a749c-174f-4ca2-bff4-d3a8062d3a61",
   "metadata": {},
   "outputs": [],
   "source": [
    "import sqlite3\n",
    "\n",
    "\n",
    "sqliteConnection = sqlite3.connect('charlottesville_real_estate.db')\n",
    "cursor = sqliteConnection.cursor()\n",
    "print(\"Database created and Successfully Connected to SQLite\")\n",
    "\n",
    "sqlite_select_Query = \"select sqlite_version();\"\n",
    "cursor.execute(sqlite_select_Query)\n",
    "record = cursor.fetchall()\n",
    "print(\"SQLite Database Version is: \", record)\n",
    "cursor.close()"
   ]
  },
  {
   "cell_type": "code",
   "execution_count": null,
   "id": "5e75cd48-6512-400c-ac8a-5ba24213eee2",
   "metadata": {},
   "outputs": [],
   "source": [
    "import sqlite3"
   ]
  },
  {
   "cell_type": "code",
   "execution_count": null,
   "id": "2d3b8de3-0ee7-422e-87cf-cf715a4684ca",
   "metadata": {},
   "outputs": [],
   "source": [
    "from sqlalchemy import create_engine"
   ]
  },
  {
   "cell_type": "code",
   "execution_count": null,
   "id": "b5c5cf88-8232-43ac-bcf9-8bc722362e1b",
   "metadata": {},
   "outputs": [],
   "source": [
    "import pymysql"
   ]
  },
  {
   "cell_type": "code",
   "execution_count": null,
   "id": "5f7c70a2-491b-4f5e-9f04-6664bc27d155",
   "metadata": {},
   "outputs": [],
   "source": [
    "import mysql.connector"
   ]
  },
  {
   "cell_type": "code",
   "execution_count": null,
   "id": "bca4804d-7d67-4bbf-853b-f60bfe364e8a",
   "metadata": {},
   "outputs": [],
   "source": [
    "con = pymysql.connect(host = \"localhost\", port = 3306, user = \"root\", passwd = \"Zeze2401*1*1\", db = \"charlottesville_real_estate\")\n",
    "cursor = con.cursor()"
   ]
  },
  {
   "cell_type": "code",
   "execution_count": null,
   "id": "864b168b-1cea-4674-9020-15aa2076597a",
   "metadata": {},
   "outputs": [],
   "source": [
    "file = 'Real_Estate_(Base_Data).json'"
   ]
  },
  {
   "cell_type": "code",
   "execution_count": null,
   "id": "a8d39c69-fe43-482c-b7d8-b38a41b04274",
   "metadata": {},
   "outputs": [],
   "source": [
    "json_data = open(file).read()"
   ]
  },
  {
   "cell_type": "code",
   "execution_count": null,
   "id": "668ced27-5670-46c9-a932-c3e487d4713f",
   "metadata": {},
   "outputs": [],
   "source": [
    "json_object = json.loads(json_data)"
   ]
  },
  {
   "cell_type": "code",
   "execution_count": null,
   "id": "fcce38bb-af5c-4457-ad39-6ad0bb705ae3",
   "metadata": {},
   "outputs": [],
   "source": [
    "def validate_string(val):\n",
    "    if val is not None:\n",
    "        if type(val) is int:\n",
    "            return str(val).encode('utf-8')\n",
    "        else:\n",
    "            return val"
   ]
  },
  {
   "cell_type": "code",
   "execution_count": null,
   "id": "edbab3ab-244c-4a37-8ddf-540136eddbff",
   "metadata": {},
   "outputs": [],
   "source": [
    "for i, item in enumerate(json_object):\n",
    "    RecordID_Int = validate_string(item.get(\"RecordID_Int\", None))\n",
    "    ParcelNumber = validate_string(item.get(\"ParcelNumber\", None))\n",
    "    StreetNumber = validate_string(item.get(\"StreetNumber\", None))\n",
    "    StreetName = validate_string(item.get(\"StreetName\", None))\n",
    "    Unit = validate_string(item.get(\"Unit\", None))\n",
    "    StateCode = validate_string(item.get(\"StateCode\", None))\n",
    "    TaxType = validate_string(item.get(\"TaxType\", None))\n",
    "    Zone = validate_string(item.get(\"Zone\", None))\n",
    "    TaxDist = validate_string(item.get(\"TaxDist\", None))\n",
    "    Legal = validate_string(item.get(\"Legal\", None))\n",
    "    Acreage = validate_string(item.get(\"Acreage\", None))\n",
    "    GPIN = validate_string(item.get(\"GPIN\", None))\n",
    "    cursor.execute(\"INSERT INTO charlottesville_real_estate (RecordID_Int, ParcelNumber, StreetNumber, StreetName, Unit, StateCode, TaxType, Zone, TaxDist, Legal, Acreage, GPIN) VALUES (%s, %s, %s, %s, %s, %s, %s, %s, %s, %s, %s)\", (ParcelNumber, StreetNumber, StreetName, Unit, StateCode, TaxType, Zone, TaxDistrict, LegalDescription, Acreage, GeoParcelIdentificationNumber))\n",
    "con.commit()\n",
    "con.close()"
   ]
  },
  {
   "cell_type": "code",
   "execution_count": null,
   "id": "d3f31908-0fbd-4762-8371-e8b7462e0c2f",
   "metadata": {},
   "outputs": [],
   "source": [
    "def get_dataframe(user, passwd, host, db_name, sql_query):\n",
    "    conn_str = f\"mysql+pymysql://{user}:{passwd}@{host}/{db_name}\"\n",
    "    sqlEngine = create_engine(conn_str, pool_recycle=3600)\n",
    "    connection = sqlEngine.connect()\n",
    "    dframe = pd.read_sql(sql_query, connection);\n",
    "    connection.close()\n",
    "    \n",
    "    return dframe\n",
    "\n",
    "\n",
    "def set_dataframe(user, passwd, host, db_name, df, table_name, pk_column, db_operation):\n",
    "    conn_str = f\"mysql+pymysql://{user}:{passwd}@{host}/{db_name}\"\n",
    "    sqlEngine = create_engine(conn_str, pool_recycle=3600)\n",
    "    connection = sqlEngine.connect()\n",
    "    \n",
    "    if db_operation == \"insert\":\n",
    "        df.to_sql(table_name, con=connection, index=False, if_exists='replace')\n",
    "        sqlEngine.execute(f\"ALTER TABLE {table_name} ADD PRIMARY KEY ({pk_column});\")\n",
    "            \n",
    "    elif db_operation == \"update\":\n",
    "        df.to_sql(table_name, con=connection, index=False, if_exists='append')\n",
    "    \n",
    "    connection.close()"
   ]
  },
  {
   "cell_type": "code",
   "execution_count": null,
   "id": "23bb3a2d-c268-4173-a8c4-c599f0e77b36",
   "metadata": {
    "tags": []
   },
   "outputs": [],
   "source": [
    "sql_charlottesville_real_estate = \"SELECT * FROM charlottesville_real_estate.charlottesville_real_estate;\"\n",
    "df_charlottesville_real_estate = get_dataframe(RecordID_Int, ParcelNumber, StreetNumber, StreetName, Unit, StateCode, TaxType, Zone, TaxDist, Legal, Acreage, GPIN)"
   ]
  },
  {
   "cell_type": "code",
   "execution_count": null,
   "id": "34ac3048-7e8e-4795-9c0b-02ad92943868",
   "metadata": {},
   "outputs": [],
   "source": [
    "drop_cols = ['Unit']\n",
    "df_charlottesville_real_estate.drop(drop_cols, axis=1, inplace=True)"
   ]
  },
  {
   "cell_type": "code",
   "execution_count": null,
   "id": "fd3214df-bfec-4d94-857f-e70593c96066",
   "metadata": {},
   "outputs": [],
   "source": []
  }
 ],
 "metadata": {
  "kernelspec": {
   "display_name": "Python 3 (ipykernel)",
   "language": "python",
   "name": "python3"
  },
  "language_info": {
   "codemirror_mode": {
    "name": "ipython",
    "version": 3
   },
   "file_extension": ".py",
   "mimetype": "text/x-python",
   "name": "python",
   "nbconvert_exporter": "python",
   "pygments_lexer": "ipython3",
   "version": "3.9.7"
  }
 },
 "nbformat": 4,
 "nbformat_minor": 5
}
